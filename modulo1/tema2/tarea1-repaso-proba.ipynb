{
 "cells": [
  {
   "cell_type": "markdown",
   "metadata": {},
   "source": [
    "\n",
    "# Tarea 1. Repaso de teoría de probabilidad\n",
    "\n",
    "<img style=\"float: right; margin: 0px 0px 15px 15px;\" src=\"https://storage.needpix.com/rsynced_images/bayesian-2889576_1280.png\" width=\"200px\" height=\"180px\" />\n",
    "\n",
    "Esta constituye la primera tarea del curso. Las tareas están pensadas para que afiances los conocimientos vistos en clase, repases la clase y debas darle una segunda leida. Incluso revisar otro material.\n",
    "\n",
    "Esta primera tarea contiene ejercicios para que repases conceptos básicos de teoría de probabilidad.\n",
    "\n",
    "Por favor, intenta ser lo más explícit@ posible, y en lo posible, apóyate de la escritura matemática con $\\LaTeX$.\n",
    "\n",
    "Recuerda además que ante cualquier duda, me puedes contactar al correo esjimenezro@iteso.mx.\n",
    "\n",
    "<p style=\"text-align:right;\"> Imagen recuperada de: https://storage.needpix.com/rsynced_images/bayesian-2889576_1280.png.</p>\n",
    "\n",
    "___"
   ]
  },
  {
   "cell_type": "markdown",
   "metadata": {},
   "source": [
    "## 1. \n",
    "\n",
    "Supongamos que una prueba para la COVID-19 tiene una precisión del 95%. Esto es, si el paciente está infectado, entonces el resultado de la prueba será positivo con probabilidad de 0.95, y si el paciente NO está infectado, el resutado de la prueba será negativo con probabilidad de 0.95.\n",
    "\n",
    "Además, supongamos que la probabilidad de estar infectado es de 0.017 (1.7%).\n",
    "\n",
    "Ahora, suponga que una persona tuvo un resultado de prueba positivo.\n",
    "\n",
    "1. ¿Cuál es la probabilidad de que esta persona esté infectada en efecto?\n",
    "\n",
    "2. ¿Cuál es la probabilidad de que no esté infectada?"
   ]
  },
  {
   "cell_type": "markdown",
   "metadata": {},
   "source": [
    "**P(I)=0.017** ---> Probabilidad de que la persona este infectada  \n",
    "\n",
    "**P(NI)=1−P(I)** ---> 0.983 Probailidad de que la persona no este infectada  \n",
    "\n",
    "**P(+∣I)=0.95** ---> Probabilidad de que la prueba se positiva dado que la persona esta infectada  \n",
    "\n",
    "**P(−∣NI)=0.95** ---> Probabilidad de que la prueba sea negativa dado que la persona no esta infectada  \n",
    "\n",
    "**P(+∣NI)=1−P(−∣NI)=0.05** ---> Probabilidad de que la prueba se **positiva** dado que la persona esta no infectada"
   ]
  },
  {
   "cell_type": "markdown",
   "metadata": {},
   "source": [
    "#### **¿Queremos?**   \n",
    "\n",
    "1. **P(I∣+) = ?** ---> Probabilidad de que la persona este infectada dado que la prueba fue positiva\n",
    "2. **P(NI∣+) = ?** ---> Probabilidad de que la persona **NO** este infectada dado que la prueba fue positiva"
   ]
  },
  {
   "cell_type": "markdown",
   "metadata": {},
   "source": [
    "**Para la primera**  \n",
    "$$\n",
    "P(I|+) = \\frac{P(+|I) \\cdot P(I)}{P(+)}\n",
    "$$\n",
    "\n",
    "Donde  P(+)  es la probabilidad de obtener un resultado positivo  \n",
    "\n",
    "$$\n",
    "P(+) = P(+|I) \\cdot P(I) + P(+|NI) \\cdot P(NI)\n",
    "$$\n",
    "\n",
    "$$\n",
    "P(+) = (0.95 \\cdot 0.017) + (0.05 \\cdot 0.983)\n",
    "$$\n",
    "\n",
    "$$\n",
    "P(+) = 0.01615 + 0.04915 = 0.0653\n",
    "$$\n",
    "\n",
    "Con eso calculanos P(I|+)\n",
    "\n",
    "$$\n",
    "P(I|+) = \\frac{0.95 \\cdot 0.017}{0.0653} = 0.2473\n",
    "$$\n",
    "\n",
    "**Para la segunda**  \n",
    " \n",
    "$$\n",
    "P(NI|+) = 1 - P(I|+)\n",
    "$$\n",
    "\n",
    "$$\n",
    "P(NI|+) = 1 - 0.2473 = 0.7527\n",
    "$$"
   ]
  },
  {
   "cell_type": "markdown",
   "metadata": {},
   "source": [
    "## 2. \n",
    "\n",
    "(Ejercicio 1.3 Pattern Recognition and Machine Learning, by Christopher M. Bishop.) \n",
    "\n",
    "Supongamos que tenemos tres cajas: $r$ (roja), $a$ (azul), y $v$ (verde). Los contenidos de las cajas son:\n",
    "\n",
    "- $r$: 3 manzanas, 4 naranjas, y 3 limas.\n",
    "- $a$: 1 manzanas, 1 naranjas, y 0 limas.\n",
    "- $v$: 3 manzanas, 3 naranjas, y 4 limas\n",
    "\n",
    "Si la caja se elige aleatoriamente con probabilidades $p(r) = 0.2$, $p(b) = 0.2$, $p(g) = 0.6$, y una fruta se selecciona de la caja elegida, con igual probabilidad de seleccionar cualquier elemento de la caja, \n",
    "\n",
    "1. ¿Cuál es la probabilida de seleccionar una manzana?\n",
    "2. Si observamos que la fruta seleccionada es una naranja, ¿Cuál es la probabilidad de que provenga de la caja verde?"
   ]
  },
  {
   "cell_type": "markdown",
   "metadata": {},
   "source": [
    "### Para la uno \n",
    "\n",
    "Definimos lo siguiente:\n",
    "\n",
    "- \\( M \\): Probabilidad de seleccionar una manzana.\n",
    "- \\( R \\): Probabilidad de seleccionar la caja roja.\n",
    "- \\( A \\): Probabilidad de seleccionar la caja azul.\n",
    "- \\( V \\): Probabilidad de seleccionar la caja verde.\n",
    "\n",
    "Queremos encontrar \\( P(M) \\)\n",
    "\n",
    "$$\n",
    "P(M) = P(M|R) \\cdot P(R) + P(M|A) \\cdot P(A) + P(M|V) \\cdot P(V)\n",
    "$$\n",
    "\n",
    "Calculamos las probabilidades condicional:\n",
    "\n",
    "- En la caja roja, hay 3 manzanas de un total de 10 frutas:\n",
    "\n",
    "$$\n",
    "P(M|R) = \\frac{3}{10}\n",
    "$$\n",
    "\n",
    "- En la caja azul, hay 1 manzana de un total de 2 frutas:\n",
    "\n",
    "$$\n",
    "P(M|A) = \\frac{1}{2}\n",
    "$$\n",
    "\n",
    "- En la caja verde, hay 3 manzanas de un total de 10 frutas:\n",
    "\n",
    "$$\n",
    "P(M|V) = \\frac{3}{10}\n",
    "$$\n",
    "\n",
    "Ahora, sustituimos los valores:\n",
    "\n",
    "$$\n",
    "P(M) = \\left( \\frac{3}{10} \\right) \\cdot 0.2 + \\left( \\frac{1}{2} \\right) \\cdot 0.2 + \\left( \\frac{3}{10} \\right) \\cdot 0.6\n",
    "$$\n",
    "\n",
    "Calculamos:\n",
    "\n",
    "$$\n",
    "P(M) = \\left( 0.3 \\right) \\cdot 0.2 + \\left( 0.5 \\right) \\cdot 0.2 + \\left( 0.3 \\right) \\cdot 0.6\n",
    "$$\n",
    "\n",
    "$$\n",
    "P(M) = 0.06 + 0.1 + 0.18 = 0.34\n",
    "$$\n",
    "\n",
    "Por lo tanto, la probabilidad de seleccionar una manzana es **0.34**.\n",
    "\n"
   ]
  },
  {
   "cell_type": "markdown",
   "metadata": {},
   "source": [
    "### 2. Para la dos.\n",
    "\n",
    "Queremos encontrar \\( P(V|N) \\) la probabilidad de que la fruta venga de la caja verde dado que se seleccionó una naranja.\n",
    "\n",
    "Usamos el teorema de Bayes:\n",
    "\n",
    "$$\n",
    "P(V|N) = \\frac{P(N|V) \\cdot P(V)}{P(N)}\n",
    "$$\n",
    "\n",
    "Donde:\n",
    "\n",
    "- \\( P(N|V) \\): Probabilidad de seleccionar una naranja dado que se eligió la caja verde.\n",
    "- \\( P(V) = 0.6 \\): Probabilidad de seleccionar la caja verde.\n",
    "- \\( P(N) \\): Probabilidad de seleccionar una naranja.\n",
    "\n",
    "Calculamos primero \\( P(N) \\) \n",
    "\n",
    "$$\n",
    "P(N) = P(N|R) \\cdot P(R) + P(N|A) \\cdot P(A) + P(N|V) \\cdot P(V)\n",
    "$$\n",
    "\n",
    "Calculamos las probabilidades condicionales:\n",
    "\n",
    "- En la caja roja, hay 4 naranjas de un total de 10 frutas:\n",
    "\n",
    "$$\n",
    "P(N|R) = \\frac{4}{10}\n",
    "$$\n",
    "\n",
    "- En la caja azul, hay 1 naranja de un total de 2 frutas:\n",
    "\n",
    "$$\n",
    "P(N|A) = \\frac{1}{2}\n",
    "$$\n",
    "\n",
    "- En la caja verde, hay 3 naranjas de un total de 10 frutas:\n",
    "\n",
    "$$\n",
    "P(N|V) = \\frac{3}{10}\n",
    "$$\n",
    "\n",
    "Ahora, sustituimos los valores:\n",
    "\n",
    "$$\n",
    "P(N) = \\left( \\frac{4}{10} \\right) \\cdot 0.2 + \\left( \\frac{1}{2} \\right) \\cdot 0.2 + \\left( \\frac{3}{10} \\right) \\cdot 0.6\n",
    "$$\n",
    "\n",
    "Calculamos:\n",
    "\n",
    "$$\n",
    "P(N) = \\left( 0.4 \\right) \\cdot 0.2 + \\left( 0.5 \\right) \\cdot 0.2 + \\left( 0.3 \\right) \\cdot 0.6\n",
    "$$\n",
    "\n",
    "$$\n",
    "P(N) = 0.08 + 0.1 + 0.18 = 0.36\n",
    "$$\n",
    "\n",
    "Ahora, aplicamos el teorema de Bayes:\n",
    "\n",
    "$$\n",
    "P(V|N) = \\frac{P(N|V) \\cdot P(V)}{P(N)}\n",
    "$$\n",
    "\n",
    "Sustituyendo los valores:\n",
    "\n",
    "$$\n",
    "P(V|N) = \\frac{\\left( \\frac{3}{10} \\right) \\cdot 0.6}{0.36}\n",
    "$$\n",
    "\n",
    "Calculamos:\n",
    "\n",
    "$$\n",
    "P(V|N) = \\frac{0.18}{0.36} = 0.5\n",
    "$$\n",
    "\n",
    "Por lo tanto, la probabilidad de que la fruta provenga de la caja verde dado que se seleccionó una naranja es **0.5** o **50%**.\n"
   ]
  },
  {
   "cell_type": "markdown",
   "metadata": {},
   "source": [
    "## 3.\n",
    "\n",
    "Leer la **sección 1.2.4. (The Gaussian distribution)** del libro Pattern Recognition and Machine Learning, by Christopher M. Bishop, las páginas 24 y 25 . A partir de ello:\n",
    "\n",
    "1. ¿Cuáles son los parámetros que caracterizan una distribución Gaussiana?, ¿Qué significan?\n",
    "   \n",
    "2. Define una V.A. normal usando `scipy.stats.norm`, con media y varianza que prefieras:\n",
    "   \n",
    "   ```python\n",
    "   x = stats.norm(loc=mu, scale=sigma)\n",
    "   ```\n",
    "   \n",
    "   Luego, muestrea 10, 100, 1000, y 10000 veces esta V.A. usando el método `rvs`:\n",
    "   \n",
    "   ```python\n",
    "   samples = x.rvs(n)\n",
    "   ```\n",
    "   \n",
    "   Finalmente, toma el promedio simple de cada uno de los conjuntos de muestras:\n",
    "   \n",
    "   ```python\n",
    "   samples.mean()\n",
    "   ```\n",
    "   \n",
    "   ¿Qué puedes concluir del efecto de la cantidad de las muestras sobre este promedio?"
   ]
  },
  {
   "cell_type": "markdown",
   "metadata": {},
   "source": [
    "### 1\n",
    "\n",
    "µ (mean): Representa el valor promedio o esperado de la distribución. Es el punto donde la campana de la distribución normal está. Indica el valor alrededor del cual los datos se agrupan. La media determina la posición de la distribución en el eje x.\n",
    "\n",
    "σ^2 (Variance): Mide la dispersión de los datos alrededor de la media. La varianza determina la anchura de la distribución; una varianza alta indica que los datos están más dispersos en torno a la media, mientras que una varianza baja indica que los datos están más concentrados cerca de la media."
   ]
  },
  {
   "cell_type": "markdown",
   "metadata": {},
   "source": [
    "### 2 "
   ]
  },
  {
   "cell_type": "code",
   "execution_count": 47,
   "metadata": {},
   "outputs": [
    {
     "name": "stdout",
     "output_type": "stream",
     "text": [
      "Promedio de 10 muestras: 4.8459\n",
      "Promedio de 100 muestras: 5.0645\n",
      "Promedio de 1000 muestras: 5.0831\n",
      "Promedio de 10000 muestras: 4.9765\n"
     ]
    }
   ],
   "source": [
    "from scipy import stats\n",
    "\n",
    "x = stats.norm(loc=5, scale=2)\n",
    "\n",
    "samples_10 = x.rvs(10)\n",
    "samples_100 = x.rvs(100)\n",
    "samples_1000 = x.rvs(1000)\n",
    "samples_10000 = x.rvs(10000)\n",
    "\n",
    "mean_10 = samples_10.mean()\n",
    "mean_100 = samples_100.mean()\n",
    "mean_1000 = samples_1000.mean()\n",
    "mean_10000 = samples_10000.mean()\n",
    "\n",
    "print(f\"Promedio de 10 muestras: {mean_10:.4f}\")\n",
    "print(f\"Promedio de 100 muestras: {mean_100:.4f}\")\n",
    "print(f\"Promedio de 1000 muestras: {mean_1000:.4f}\")\n",
    "print(f\"Promedio de 10000 muestras: {mean_10000:.4f}\")"
   ]
  },
  {
   "cell_type": "markdown",
   "metadata": {},
   "source": [
    "Podemos concluir que con forme mas muestras mas acercamos el promedio al valor de la media, como se menciona en la ley de los grandes numeros "
   ]
  },
  {
   "cell_type": "markdown",
   "metadata": {},
   "source": [
    "# 4.\n",
    "\n",
    "Es común que haya cierta confusión en el significado del valor esperado. Un significado que le podemos dar a este valor, viene dado por la [ley de los grandes números](https://www.khanacademy.org/math/statistics-probability/random-variables-stats-library/expected-value-lib/v/law-of-large-numbers), que básicamente dice que:\n",
    "\n",
    "$$\n",
    "\\mathbb{E}_p[f] \\to \\frac{1}{N} \\sum_{i=1}^N f(x_i), \\text{ cuando } N \\to \\infty\n",
    "$$"
   ]
  },
  {
   "cell_type": "markdown",
   "metadata": {},
   "source": [
    "Para convencerte de esto, en este ejercicio simularás la tirada de un dado justo:\n",
    "\n",
    "1. Definimos la VA $X$ como el valor que muestra el dado cuando cae, es decir $\\mathrm{Val}(X) = \\{1, 2, 3, 4, 5, 6\\}$.\n",
    "2. Como el dado es justo $P(X=i)=\\frac{1}{|\\mathrm{Val}(X)|}=\\frac{1}{6}$ para todo $i=1,\\dots,6$.\n",
    "\n",
    "¿Cuál es el valor esperado $E[X]$?"
   ]
  },
  {
   "cell_type": "code",
   "execution_count": 48,
   "metadata": {},
   "outputs": [],
   "source": [
    "x = (1,2,3,4,5,6)"
   ]
  },
  {
   "cell_type": "code",
   "execution_count": 49,
   "metadata": {},
   "outputs": [
    {
     "data": {
      "text/plain": [
       "3.5"
      ]
     },
     "execution_count": 49,
     "metadata": {},
     "output_type": "execute_result"
    }
   ],
   "source": [
    "# Calcular el valor esperado teórico de la VA X\n",
    "P_X = 1/6\n",
    "E_X  = P_X*(sum(x))\n",
    "E_X"
   ]
  },
  {
   "cell_type": "markdown",
   "metadata": {},
   "source": [
    "Ahora, viene el paso de simulación. \n",
    "\n",
    "1. Vas a simular por lo menos 1000 veces la tirada del dado, guardando a cada tirada el resultado obtenido.\n",
    "\n",
    "2. Vas a calcular el valor promedio de los resultados *a cada tirada*. Es decir, si los resultados en las primeras $n$ tiradas son $x_1,\\dots,x_n$, el valor promedio en la tirada $n$ es\n",
    "\n",
    "   $$\\bar{x}_n = \\frac{x_1+\\dots+x_n}{n}.$$\n",
    "\n",
    "3. Finalmente, vas a graficar los valores promedio obtenidos a cada tirada (en el eje $y$) vs. el número de tiradas (en el eje $x$). Incluir el valor esperado teórico en la gráfica. ¿Qué observas?\n",
    "\n",
    "*Ayuda: apoyarse del modulo random de numpy.*"
   ]
  },
  {
   "cell_type": "code",
   "execution_count": 50,
   "metadata": {},
   "outputs": [],
   "source": [
    "# Simular 1000 veces\n",
    "import numpy as np\n",
    "import matplotlib.pyplot as plt\n",
    "\n",
    "num_simulaciones = 1000\n",
    "resultados = np.random.randint(1, 7, size=num_simulaciones)"
   ]
  },
  {
   "cell_type": "code",
   "execution_count": 51,
   "metadata": {},
   "outputs": [],
   "source": [
    "# Calcular el valor promedio de los resultados a cada tirada\n",
    "promedios = np.cumsum(resultados) / np.arange(1, num_simulaciones + 1)"
   ]
  },
  {
   "cell_type": "code",
   "execution_count": 52,
   "metadata": {},
   "outputs": [
    {
     "data": {
      "image/png": "[encoded data removed]",
      "text/plain": [
       "<Figure size 1000x600 with 1 Axes>"
      ]
     },
     "metadata": {},
     "output_type": "display_data"
    }
   ],
   "source": [
    "plt.figure(figsize=(10, 6))\n",
    "plt.plot(promedios, label='Promedio de las tiradas', color='b')\n",
    "plt.axhline(y=3.5, color='r', linestyle='--', label='Valor esperado teórico (3.5)')\n",
    "plt.xlabel('Número de tiradas')\n",
    "plt.ylabel('Valor promedio')\n",
    "plt.title('Promedio de las tiradas de un dado justo')\n",
    "plt.legend()\n",
    "plt.grid(True)\n",
    "plt.show()"
   ]
  },
  {
   "cell_type": "markdown",
   "metadata": {},
   "source": [
    "Vemeos como la conforme aumentamos la cantidad de tiradsas del dado nos acercamos mas al valor esperado teorico "
   ]
  },
  {
   "cell_type": "markdown",
   "metadata": {},
   "source": [
    "# 5.\n",
    "\n",
    "[Lectura recomendada](https://ocw.mit.edu/courses/18-05-introduction-to-probability-and-statistics-spring-2022/mit18_05_s22_class06-prep-b.pdf)"
   ]
  },
  {
   "cell_type": "markdown",
   "metadata": {},
   "source": [
    "<script>\n",
    "  $(document).ready(function(){\n",
    "    $('div.prompt').hide();\n",
    "    $('div.back-to-top').hide();\n",
    "    $('nav#menubar').hide();\n",
    "    $('.breadcrumb').hide();\n",
    "    $('.hidden-print').hide();\n",
    "  });\n",
    "</script>\n",
    "\n",
    "<footer id=\"attribution\" style=\"float:right; color:#808080; background:#fff;\">\n",
    "Created with Jupyter by Esteban Jiménez Rodríguez.\n",
    "</footer>"
   ]
  }
 ],
 "metadata": {
  "kernelspec": {
   "display_name": "Python 3 (ipykernel)",
   "language": "python",
   "name": "python3"
  },
  "language_info": {
   "codemirror_mode": {
    "name": "ipython",
    "version": 3
   },
   "file_extension": ".py",
   "mimetype": "text/x-python",
   "name": "python",
   "nbconvert_exporter": "python",
   "pygments_lexer": "ipython3",
   "version": "3.9.19"
  }
 },
 "nbformat": 4,
 "nbformat_minor": 4
}
