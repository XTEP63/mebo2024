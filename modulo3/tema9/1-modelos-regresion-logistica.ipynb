{
 "cells": [
  {
   "cell_type": "markdown",
   "metadata": {},
   "source": [
    "# Modelos de regresión logística\n",
    "\n",
    "![BLR](https://upload.wikimedia.org/wikipedia/commons/e/ed/Bayes_icon.svg)\n",
    "\n",
    "En el tema anterior vimos modelos de regresión lineal para modelar variables de comportamiento continuo en relación a otras. En nuestro qué hacer como científicos de datos hay muchos problemas que, por el contrario, se modelan con una variable tipo Bernoulli (solo dos posibilidades, éxito (1) o fracaso (0)). \n",
    "\n",
    "En estos contextos, el uso de clasificadores es el apropiado. En este sentido, en esta clase revisaremos cómo implementar un modelo de regresión logística Bayesiana usando PyMC.\n",
    "\n",
    "> **Objetivos:**\n",
    "> - Implementar modelos de regresión logística Bayesiana usando PyMC.\n",
    "\n",
    "> **Referencias:**\n",
    "> \n",
    "> - https://goldinlocks.github.io/Bayesian-logistic-regression-with-pymc3/\n",
    "> - https://towardsdatascience.com/building-a-bayesian-logistic-regression-with-python-and-pymc3-4dd463bbb16\n",
    "> - https://www.kaggle.com/datasets/janiobachmann/bank-marketing-dataset"
   ]
  },
  {
   "cell_type": "markdown",
   "metadata": {},
   "source": [
    "## 1. Descripción del problema\n",
    "\n",
    "Un banco quiere encontrar cómo mejorar sus estrategias para la siguiente campaña publicitaria. Para esto tenemos datos de campaña(s) publicitaria(s) pasada(s) que se espera que analicemos para encontrar patrones que nos ayuden a encontar ideas para desarrollar futuras estrategias publicitarias.\n",
    "\n",
    "La campaña publicitaria en cuestión es para que los clientes hagan un depósito a término. Un depósito a término es un depósito en un banco, por el cual el banco ofrece una tasa fija, la cuál será entregada cuando se cumpla el término específico del depósito."
   ]
  },
  {
   "cell_type": "markdown",
   "metadata": {},
   "source": [
    "Los atributos de nuestro conjunto de datos son:\n",
    "\n",
    "1. Datos del cliente:\n",
    "\n",
    "- age: (numérica)\n",
    "- job: tipo de trabajo (categórica: 'admin.','blue-collar','entrepreneur','housemaid','management','retired','self-employed','services','student','technician','unemployed','unknown')\n",
    "- marital: estado marital (categórica: 'divorced', 'married', 'single', 'unknown'; note: 'divorced' means divorced or widowed)\n",
    "- education: (categórica: primary, secondary, tertiary and unknown)\n",
    "- default: tiene créditos sin pagar? (categórica: 'no', 'yes', 'unknown')\n",
    "- housing: tiene préstamo hipotecario? (categórica: 'no', 'yes', 'unknown')\n",
    "- loan: tiene préstamo personal? (categórica: 'no', 'yes', 'unknown')\n",
    "- balance: balance en su(s) cuenta(s) bancarias.\n",
    "\n",
    "2. Datos de la campaña publicitaria actual:\n",
    "\n",
    "- contact: forma de contacto (categórica: 'cellular','telephone')\n",
    "- month: último mes de contacto en el año (categórica: 'jan', 'feb', 'mar', ..., 'nov', 'dec')\n",
    "- day: último día de contacto de la semana (categórica: 'mon', 'tue', 'wed', 'thu', 'fri')\n",
    "- duration: duración del último contacto (numérica). Nota importante: este atributo afecta fuertemente la salida (por ejemplo, si duration=0, entonces y=deposit='no'). Sin embargo, la duración no se sabe antes de que una llamada sea llevada a cabo. También, al final de la llamada y=deposit es obviamente conocida. Por tanto, este atributo debería ser descartado para propósitos de un modelo predictivo.\n",
    "\n",
    "3. Otros datos:\n",
    "\n",
    "- campaign: número de contactos llevados a cabo durante la campaña (numérica)\n",
    "- pdays: número de días que pasaron después de que el cliente fue contactado en una campaña previa (numérica; -1 significa que el cliente no fue contactado previamente)\n",
    "- previous: número de contactos llevados a cabo antes de esta campaña (numérica)\n",
    "- poutcome: resultado de la campaña previa (categórica: 'failure', 'unknown', 'success', 'other')\n",
    "\n",
    "\n",
    "Veamos los datos."
   ]
  },
  {
   "cell_type": "code",
   "execution_count": null,
   "metadata": {},
   "outputs": [],
   "source": [
    "# Importar pandas\n"
   ]
  },
  {
   "cell_type": "code",
   "execution_count": null,
   "metadata": {},
   "outputs": [],
   "source": [
    "# Leer el archivo de datos (bank.csv)\n"
   ]
  },
  {
   "cell_type": "code",
   "execution_count": null,
   "metadata": {},
   "outputs": [],
   "source": [
    "# Cabecera del archivo\n"
   ]
  },
  {
   "cell_type": "code",
   "execution_count": null,
   "metadata": {},
   "outputs": [],
   "source": [
    "# Descripción de columnas numéricas\n"
   ]
  },
  {
   "cell_type": "code",
   "execution_count": null,
   "metadata": {},
   "outputs": [],
   "source": [
    "# Descripción de columnas categóricas\n"
   ]
  },
  {
   "cell_type": "markdown",
   "metadata": {},
   "source": [
    "## 2. Análisis exploratorio de datos\n",
    "\n",
    "Antes de proponer algún modelo es importante que nos demos una idea intuitiva de cómo se relacionan los atributos entre sí. Para esto es muy importante realizar un análisis exploratorio de datos.\n",
    "\n",
    "En este caso haremos un análisis simple, explorando las relaciones entre cada variable y la salida."
   ]
  },
  {
   "cell_type": "code",
   "execution_count": null,
   "metadata": {},
   "outputs": [],
   "source": [
    "# Importar pyplot\n",
    "\n",
    "# Importar seaborn\n"
   ]
  },
  {
   "cell_type": "markdown",
   "metadata": {},
   "source": [
    "Antes de revisar la relación entre variables, veamos la variable de salida:"
   ]
  },
  {
   "cell_type": "code",
   "execution_count": null,
   "metadata": {},
   "outputs": [],
   "source": [
    "# Histograma de depósitos\n"
   ]
  },
  {
   "cell_type": "markdown",
   "metadata": {},
   "source": [
    "Vemos que está prácticamente balanceada."
   ]
  },
  {
   "cell_type": "markdown",
   "metadata": {},
   "source": [
    "### Variables numéricas"
   ]
  },
  {
   "cell_type": "code",
   "execution_count": null,
   "metadata": {},
   "outputs": [],
   "source": [
    "# Boxplot de las columnas numéricas, agrupado por la columna \"deposit\"\n"
   ]
  },
  {
   "cell_type": "markdown",
   "metadata": {},
   "source": [
    "Veamos un poco más de cerca el balance:"
   ]
  },
  {
   "cell_type": "code",
   "execution_count": null,
   "metadata": {},
   "outputs": [],
   "source": [
    "# Boxplot de la columna de balance, agrupado por la columna \"deposit\", acercado\n"
   ]
  },
  {
   "cell_type": "markdown",
   "metadata": {},
   "source": [
    "#### Conclusión:\n",
    "\n",
    "De las variables numéricas, las que parecen tener una relación directa con nuestro objetivo son:\n",
    "\n",
    "- balance\n",
    "- duration (esta no la debemos incluir en un modelo predictivo, por las razones antes expuestas)\n",
    "- pdays\n",
    "- previous"
   ]
  },
  {
   "cell_type": "markdown",
   "metadata": {},
   "source": [
    "### Variables categóricas"
   ]
  },
  {
   "cell_type": "code",
   "execution_count": null,
   "metadata": {},
   "outputs": [],
   "source": [
    "# Conteos de las diferentes categorías de las columnas categóricas, agrupado por la columna \"deposit\"\n"
   ]
  },
  {
   "cell_type": "markdown",
   "metadata": {},
   "source": [
    "#### Conclusión:\n",
    "\n",
    "De las variables categóricas, las que parecen tener una relación directa con nuestro objetivo son:\n",
    "\n",
    "- default: las personas que han caido en impago tienen menos probabilidad de adquirir un depósito a término. Las personas buena paga están uniformemente distribuidas.\n",
    "- housing: las personas que tienen un préstamos hipotecario tienen menos probabilidad de adquirir un depósito. Las personas sin préstamo tienen más probabilidad.\n",
    "- loan: las personas que tienen un préstamo personal tienen menos probabilidad de adquirir un depósito. Las personas sin préstamo están uniformemente distribuidas.\n",
    "- month: las personas que fueron contactadas en marzo, septiembre, octubre y diciembre tienen más probabilidad de adquirir un depósito. Las personas contactadas en mayo tienen menos probabilidad de adquirir un depósito. En los demás meses la distribución es uniforme.\n",
    "- poutcome: las personas que aceptaron una campaña publicitaria en el pasado tienen mucha más probabilidad de volverla a aceptar. En los demás casos, la distribución es uniforme."
   ]
  },
  {
   "cell_type": "markdown",
   "metadata": {},
   "source": [
    "## 3. Preprocesamiento\n",
    "\n",
    "Antes de continuar al modelamiento, hagamos las siguientes operaciones:"
   ]
  },
  {
   "cell_type": "code",
   "execution_count": null,
   "metadata": {},
   "outputs": [],
   "source": [
    "# Versión numérica de la columna \"deposit\"\n"
   ]
  },
  {
   "cell_type": "code",
   "execution_count": null,
   "metadata": {},
   "outputs": [],
   "source": [
    "# Estandarización de las columnas numéricas\n"
   ]
  },
  {
   "cell_type": "markdown",
   "metadata": {},
   "source": [
    "## 4. Regresor logístico Bayesiano\n",
    "\n",
    "Comencemos con una implementación muy simple, tomando en cuenta solamente las variables numéricas.\n",
    "\n",
    "Los regresores logísticos se parecen bastante a los regresores lineales. En este caso, al ser un problema de clasificación binaria, nuestra salida (\"deposit\") la modelamos con una distribución Bernoulli.\n",
    "\n",
    "$$\n",
    "D_i \\sim \\text{Bernoulli}(p_i).\n",
    "$$\n",
    "\n",
    "La probabilidad, es la que dependerá de los predictores (\"balance\", \"pdays\" y \"previous\"). Sabemos que la probabilidad debe de estar entre 0 y 1, por lo que usamos la función logit para asegurar esto:\n",
    "\n",
    "$$\n",
    "\\text{logit}(p_i) = \\log \\frac{p_i}{1 - p_i}.\n",
    "$$\n",
    "\n",
    "Es sobre $\\text{logit}(p_i)$ que definimos un modelo lineal de los predictores:\n",
    "\n",
    "$$\n",
    "\\text{logit}(p_i) = \\alpha + \\beta_{balance}balance_i + \\beta_{pdays}pdays_i + \\beta_{previous}previous_i.\n",
    "$$\n",
    "\n",
    "Para los parámetros $\\alpha$, $\\beta_{balance}$, $\\beta_{pdays}$, y $\\beta_{previous}$ definimos previas. El modelo queda como sigue:\n",
    "\n",
    "$$\n",
    "\\begin{align}\n",
    "\\begin{array}{lcl}\n",
    "deposit_i & \\sim & \\text{Bernoulli}(p_i) \\\\\n",
    "\\text{logit}(p_i) & = & \\alpha + \\beta_{balance}balance_i + \\beta_{pdays}pdays_i + \\beta_{previous}previous_i \\\\\n",
    "\\alpha & \\sim & \\text{Normal}(0, 1) \\\\\n",
    "\\beta_{balance} & \\sim & \\text{Normal}(0, 1) \\\\\n",
    "\\beta_{pdays} & \\sim & \\text{Normal}(0, 1) \\\\\n",
    "\\beta_{previous} & \\sim & \\text{Normal}(0, 1) \\\\\n",
    "\\end{array}\n",
    "\\end{align}\n",
    "$$"
   ]
  },
  {
   "cell_type": "code",
   "execution_count": null,
   "metadata": {},
   "outputs": [],
   "source": [
    "# Importar pymc\n",
    "\n",
    "# Importar arviz\n",
    "\n",
    "# Importar numpy\n"
   ]
  },
  {
   "cell_type": "code",
   "execution_count": null,
   "metadata": {},
   "outputs": [],
   "source": [
    "# Modelo solo con variables numéricas\n",
    "with pm.Model() as only_numeric:\n",
    "    # Previas\n",
    "    \n",
    "    # Regresión\n",
    "    \n",
    "    # Deposit\n",
    "    \n"
   ]
  },
  {
   "cell_type": "markdown",
   "metadata": {},
   "source": [
    "### Simulación predictiva previa\n",
    "\n",
    "Veamos que tan buenas son estas previas que elegimos:"
   ]
  },
  {
   "cell_type": "code",
   "execution_count": null,
   "metadata": {},
   "outputs": [],
   "source": [
    "# Simulación predictiva previa\n"
   ]
  },
  {
   "cell_type": "code",
   "execution_count": null,
   "metadata": {},
   "outputs": [],
   "source": [
    "# Objeto prior predictive\n"
   ]
  },
  {
   "cell_type": "code",
   "execution_count": null,
   "metadata": {},
   "outputs": [],
   "source": [
    "# Generemos algunas de las densidades previas para algunos sujetos\n"
   ]
  },
  {
   "cell_type": "markdown",
   "metadata": {},
   "source": [
    "Las previas elegidas parecen hacer un buen trabajo, en el sentido de que las probabilidades no se cargan a 0 o a 1."
   ]
  },
  {
   "cell_type": "markdown",
   "metadata": {},
   "source": [
    "### Resultados e interpretación\n",
    "\n",
    "Generemos muestras de la distribución posterior:"
   ]
  },
  {
   "cell_type": "code",
   "execution_count": null,
   "metadata": {},
   "outputs": [],
   "source": [
    "# Muestreo de la distribución posterior\n"
   ]
  },
  {
   "cell_type": "markdown",
   "metadata": {},
   "source": [
    "Veamos las posteriores para las $\\beta$ s:"
   ]
  },
  {
   "cell_type": "code",
   "execution_count": null,
   "metadata": {},
   "outputs": [],
   "source": [
    "# az.plot_posterior\n"
   ]
  },
  {
   "cell_type": "markdown",
   "metadata": {},
   "source": [
    "Observamos que en conjunto las tres variables, en efecto tienen una relación positiva en la probabilidad de que un sujeto adquiera un depósito.\n",
    "\n",
    "Es importante recordar que el espacio en el que están estas $\\beta$ s, es un espacio transformado por la transformación logística inversa.\n",
    "\n",
    "Para $\\alpha$, debido a que estandarizamos nuestras variables, sabemos que $\\text{logit}(p) = \\alpha$ es la probabilidad de que un sujeto con balance, pdays y previous promedios acepte un depósito."
   ]
  },
  {
   "cell_type": "code",
   "execution_count": null,
   "metadata": {},
   "outputs": [],
   "source": [
    "# Importar scipy.special.expit as logistic\n"
   ]
  },
  {
   "cell_type": "code",
   "execution_count": null,
   "metadata": {},
   "outputs": [],
   "source": [
    "# az.plot_posterior\n"
   ]
  },
  {
   "cell_type": "markdown",
   "metadata": {},
   "source": [
    "La probabilidad de que un sujeto promedio acepte un depósito está entre 0.47 y 0.49."
   ]
  },
  {
   "cell_type": "markdown",
   "metadata": {},
   "source": [
    "### Evaluación del modelo\n",
    "\n",
    "Comenzamos por hacer una partición de los datos:"
   ]
  },
  {
   "cell_type": "code",
   "execution_count": null,
   "metadata": {},
   "outputs": [],
   "source": [
    "# Importar train_test_split\n"
   ]
  },
  {
   "cell_type": "code",
   "execution_count": null,
   "metadata": {},
   "outputs": [],
   "source": [
    "# Partición de los datos en entrenamiento y prueba\n"
   ]
  },
  {
   "cell_type": "markdown",
   "metadata": {},
   "source": [
    "Redefinimos el modelo usando variables mutables, con los datos de entrenamiento:"
   ]
  },
  {
   "cell_type": "code",
   "execution_count": null,
   "metadata": {},
   "outputs": [],
   "source": [
    "# Redefinimos modelo con variables mutables\n",
    "with pm.Model() as only_numeric_mutable:\n",
    "    # Variables numéricas mutables\n",
    "    \n",
    "    # Previas\n",
    "    \n",
    "    # Regresión\n",
    "    \n",
    "    # Deposit\n",
    "    "
   ]
  },
  {
   "cell_type": "markdown",
   "metadata": {},
   "source": [
    "Muestreamos la distribución posterior:"
   ]
  },
  {
   "cell_type": "code",
   "execution_count": null,
   "metadata": {},
   "outputs": [],
   "source": [
    "# Muestreo de la distribución posterior\n"
   ]
  },
  {
   "cell_type": "markdown",
   "metadata": {},
   "source": [
    "Para los datos observados, muestreamos la distribución posterior predictiva:"
   ]
  },
  {
   "cell_type": "code",
   "execution_count": null,
   "metadata": {},
   "outputs": [],
   "source": [
    "# Cambiamos los datos observados y muestreamos la distribución posterior predictiva\n"
   ]
  },
  {
   "cell_type": "markdown",
   "metadata": {},
   "source": [
    "Observamos la posterior predictiva:"
   ]
  },
  {
   "cell_type": "code",
   "execution_count": null,
   "metadata": {},
   "outputs": [],
   "source": [
    "# Tenemos 4 cadenas, 1000 muestras por cadena y 2233 sujetos de prueba\n"
   ]
  },
  {
   "cell_type": "code",
   "execution_count": null,
   "metadata": {},
   "outputs": [],
   "source": [
    "# Tomamos promedio sobre las cadenas y las muestras\n"
   ]
  },
  {
   "cell_type": "markdown",
   "metadata": {},
   "source": [
    "Con lo anterior, llevamos a cabo la evaluación, eligiendo el mejor threshold para maximizar el f1:"
   ]
  },
  {
   "cell_type": "code",
   "execution_count": null,
   "metadata": {},
   "outputs": [],
   "source": [
    "# Importamos precision_recall_curve y f1_score\n"
   ]
  },
  {
   "cell_type": "code",
   "execution_count": null,
   "metadata": {},
   "outputs": [],
   "source": [
    "# Construimos la curva precision-recall\n"
   ]
  },
  {
   "cell_type": "code",
   "execution_count": null,
   "metadata": {},
   "outputs": [],
   "source": [
    "# Construimos la curva F1 vs. umbrales\n",
    "\n",
    "# Encontramos el umbral que maximiza F1\n"
   ]
  },
  {
   "cell_type": "code",
   "execution_count": null,
   "metadata": {},
   "outputs": [],
   "source": [
    "fig, axes = plt.subplots(ncols=2, figsize=(13, 5))\n",
    "\n",
    "# Curva Precision-Recall, con el mejor umbral marcado\n",
    "sns.scatterplot(x='Recall', y='Precision', data=pr_curve, ax=axes[0])\n",
    "axes[0].plot(\n",
    "    pr_curve.loc[np.where(thresholds == best_threshold)[0], 'Recall'],\n",
    "    pr_curve.loc[np.where(thresholds == best_threshold)[0], 'Precision'],\n",
    "    'ro',\n",
    "    ms=10\n",
    ")\n",
    "axes[0].set_ylim(0,1)\n",
    "axes[0].set_title('Precision-Recall Curve')\n",
    "\n",
    "# Curva F1 vs. umbrales, con el mejor umbral marcado\n",
    "f1.plot(ax=axes[1], title='F1 Scores', ylim=(0,1))\n",
    "axes[1].set_xlabel('Threshold')\n",
    "axes[1].axvline(best_threshold, lw=1, ls='--', color='k')\n",
    "axes[1].text(x=.60, y=.95, s=f'Max F1 @ {best_threshold:.2f}')\n",
    "fig.tight_layout()\n",
    "plt.subplots_adjust(top=.8)\n",
    "plt.show();"
   ]
  },
  {
   "cell_type": "code",
   "execution_count": null,
   "metadata": {},
   "outputs": [],
   "source": [
    "# Accuracy\n"
   ]
  },
  {
   "cell_type": "markdown",
   "metadata": {},
   "source": [
    "<script>\n",
    "  $(document).ready(function(){\n",
    "    $('div.prompt').hide();\n",
    "    $('div.back-to-top').hide();\n",
    "    $('nav#menubar').hide();\n",
    "    $('.breadcrumb').hide();\n",
    "    $('.hidden-print').hide();\n",
    "  });\n",
    "</script>\n",
    "\n",
    "<footer id=\"attribution\" style=\"float:right; color:#808080; background:#fff;\">\n",
    "Created with Jupyter by Esteban Jiménez Rodríguez.\n",
    "</footer>"
   ]
  }
 ],
 "metadata": {
  "kernelspec": {
   "display_name": "mebo2024_v4",
   "language": "python",
   "name": "python3"
  },
  "language_info": {
   "codemirror_mode": {
    "name": "ipython",
    "version": 3
   },
   "file_extension": ".py",
   "mimetype": "text/x-python",
   "name": "python",
   "nbconvert_exporter": "python",
   "pygments_lexer": "ipython3",
   "version": "3.9.19"
  }
 },
 "nbformat": 4,
 "nbformat_minor": 2
}
