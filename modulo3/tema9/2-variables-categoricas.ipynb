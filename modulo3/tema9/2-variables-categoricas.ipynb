{
 "cells": [
  {
   "cell_type": "markdown",
   "metadata": {},
   "source": [
    "# Inclusión de variables categóricas en los modelos\n",
    "\n",
    "Por último analizaremos el impacto de incluir variables categóricas en nuestros modelos.\n",
    "\n",
    "Esta es una pregunta bastante común en problemas de modelado. ¿Qué tanto cambia el resultado a través de diferentes categorías?\n",
    "Las categorías son variables discretas sin un orden específico. Por ejemplo:\n",
    "\n",
    "- Sexo: masculino, femenino.\n",
    "- Continente: América, Asia, África.\n",
    "- Universidad: ITESO, Tecnológico de Monterrey, UDG.\n",
    "\n",
    "Hay que tener cuidado, ya que en muchos contextos, este tipo de variables se codifican como variables numéricas (one-hot encoding, label encoding, entre otros) y se suelen tratar en los modelos como variables continuas, lo cual puede llevar a conclusiones incorrectas.\n",
    "\n",
    "Una idea un poco menos común es que los parámetros del modelo dependan de las categorías. En este caso, podríamos decir que desarrollamos un modelo por cada categoría. De esta forma, no se sufren de los problemas antes mencionados, y es lo que estudiaremos en este cuaderno."
   ]
  },
  {
   "cell_type": "markdown",
   "metadata": {},
   "source": [
    "Usaremos todo lo que vimos en el cuaderno anterior:"
   ]
  },
  {
   "cell_type": "code",
   "execution_count": null,
   "metadata": {},
   "outputs": [],
   "source": [
    "# Importar pandas\n",
    "import pandas as pd\n",
    "# Importar pymc\n",
    "import pymc as pm\n",
    "# Importar arviz\n",
    "import arviz as az\n",
    "# Importar numpy\n",
    "import numpy as np\n",
    "# Importar train_test_split\n",
    "from sklearn.model_selection import train_test_split\n",
    "# Importamos precision_recall_curve y f1_score\n",
    "from sklearn.metrics import precision_recall_curve, f1_score\n",
    "# Importamos pyplot\n",
    "from matplotlib import pyplot as plt\n",
    "# Importamos seaborn\n",
    "import seaborn as sns"
   ]
  },
  {
   "cell_type": "code",
   "execution_count": null,
   "metadata": {},
   "outputs": [],
   "source": [
    "# Leer el archivo de datos (bank.csv)\n",
    "data = pd.read_csv('data/bank.csv')"
   ]
  },
  {
   "cell_type": "code",
   "execution_count": null,
   "metadata": {},
   "outputs": [],
   "source": [
    "# Versión numérica de la columna \"deposit\"\n",
    "data[\"deposit_binary\"] = data[\"deposit\"].replace({\"yes\": 1, \"no\": 0})"
   ]
  },
  {
   "cell_type": "code",
   "execution_count": null,
   "metadata": {},
   "outputs": [],
   "source": [
    "# Normalización de las columnas numéricas\n",
    "numeric_cols = [\"balance\", \"pdays\", \"previous\"]\n",
    "data[numeric_cols] = (data[numeric_cols] - data[numeric_cols].mean()) / data[numeric_cols].std()"
   ]
  },
  {
   "cell_type": "markdown",
   "metadata": {},
   "source": [
    "Utilizaremos solo una variable categórica correspondiente a:\n",
    "\n",
    "housing: tiene préstamo hipotecario? (categórica: 'no', 'yes')\n",
    "\n",
    "Para esto la codificamos primero:"
   ]
  },
  {
   "cell_type": "code",
   "execution_count": null,
   "metadata": {},
   "outputs": [],
   "source": [
    "# Versión numérica de la columna poutcome\n",
    "data[\"housing_numeric\"] = data[\"housing\"].map({\"yes\": 1, \"no\": 0})"
   ]
  },
  {
   "cell_type": "markdown",
   "metadata": {},
   "source": [
    "El modelo seguirá siendo básicamente el mismo, nada más que $\\alpha$ dependerá de la variable poutcome.\n",
    "\n",
    "$$\n",
    "\\begin{align}\n",
    "\\begin{array}{lcl}\n",
    "deposit_i & \\sim & \\text{Bernoulli}(p_i) \\\\\n",
    "\\text{logit}(p_i) & = & \\alpha_{POUTCOME[i]} + \\beta_{balance}balance_i + \\beta_{pdays}pdays_i + \\beta_{previous}previous_i \\\\\n",
    "\\alpha_j & \\sim & \\text{Normal}(0, 1) \\qquad \\text{for } j=0,1,2,3\\\\\n",
    "\\beta_{balance} & \\sim & \\text{Normal}(0, 1) \\\\\n",
    "\\beta_{pdays} & \\sim & \\text{Normal}(0, 1) \\\\\n",
    "\\beta_{previous} & \\sim & \\text{Normal}(0, 1) \\\\\n",
    "\\end{array}\n",
    "\\end{align}\n",
    "$$"
   ]
  },
  {
   "cell_type": "code",
   "execution_count": null,
   "metadata": {},
   "outputs": [],
   "source": [
    "# Partición de los datos en entrenamiento y prueba\n",
    "X = data[[\"balance\", \"pdays\", \"previous\", \"housing_numeric\"]]\n",
    "y = data[\"deposit_binary\"]\n",
    "X_train, X_test, y_train, y_test = train_test_split(X, y, test_size=0.2, random_state=42)"
   ]
  },
  {
   "cell_type": "code",
   "execution_count": null,
   "metadata": {},
   "outputs": [],
   "source": [
    "# Redefinimos modelo con variables mutables\n",
    "coords = {\"cat\": X_train[\"housing_numeric\"].unique()}\n",
    "with pm.Model(coords=coords) as categorical_model:\n",
    "    # Variables numéricas mutables\n",
    "    balance = pm.MutableData(\"balance\", X_train[\"balance\"].values, dims=\"idx\")\n",
    "    pdays = pm.MutableData(\"pdays\", X_train[\"pdays\"].values, dims=\"idx\")\n",
    "    previous = pm.MutableData(\"previous\", X_train[\"previous\"].values, dims=\"idx\")\n",
    "    housing = pm.MutableData(\"housing\", X_train[\"housing_numeric\"].values, dims=\"idx\")\n",
    "    deposit_data = pm.MutableData(\"deposit_data\", y_train.values, dims=\"idx\")\n",
    "    # Previas\n",
    "    alpha = pm.Normal(\"alpha\", mu=0, sigma=1, dims=\"cat\")\n",
    "    beta_balance = pm.Normal(\"beta_balance\", mu=0, sigma=1)\n",
    "    beta_pdays = pm.Normal(\"beta_pdays\", mu=0, sigma=1)\n",
    "    beta_previous = pm.Normal(\"beta_previous\", mu=0, sigma=1)\n",
    "    # Regresión\n",
    "    p = pm.Deterministic(\n",
    "        \"p\",\n",
    "        pm.math.invlogit(\n",
    "            alpha[housing]\n",
    "            + beta_balance * balance\n",
    "            + beta_pdays * pdays\n",
    "            + beta_previous * previous\n",
    "        ),\n",
    "    )\n",
    "    # Deposit\n",
    "    deposit = pm.Bernoulli(\"deposit\", p=p, observed=deposit_data, dims=\"idx\")\n",
    "    \n",
    "    # Muestreo de la distribución posterior\n",
    "    idata = pm.sample()"
   ]
  },
  {
   "cell_type": "code",
   "execution_count": null,
   "metadata": {},
   "outputs": [],
   "source": [
    "# az.plot_posterior\n",
    "az.plot_posterior(idata, var_names=[\"beta_balance\", \"beta_pdays\", \"beta_previous\"])"
   ]
  },
  {
   "cell_type": "code",
   "execution_count": null,
   "metadata": {},
   "outputs": [],
   "source": [
    "# Importar scipy.special.expit as logistic\n",
    "from scipy.special import expit as logistic"
   ]
  },
  {
   "cell_type": "code",
   "execution_count": null,
   "metadata": {},
   "outputs": [],
   "source": [
    "# Plot posterior\n",
    "az.plot_posterior(\n",
    "    idata,\n",
    "    var_names=[\"alpha\"],\n",
    "    transform=logistic,\n",
    ")"
   ]
  },
  {
   "cell_type": "code",
   "execution_count": null,
   "metadata": {},
   "outputs": [],
   "source": [
    "# Cambiamos los datos observados y muestreamos la distribución posterior predictiva\n",
    "with categorical_model:\n",
    "    pm.set_data(\n",
    "        {\n",
    "            \"balance\": X_test[\"balance\"].values,\n",
    "            \"pdays\": X_test[\"pdays\"].values,\n",
    "            \"previous\": X_test[\"previous\"].values,\n",
    "            \"housing\": X_test[\"housing_numeric\"].values,\n",
    "            \"deposit_data\": y_test.values\n",
    "        },\n",
    "        coords={\"idx\": X_test.index}\n",
    "    )\n",
    "\n",
    "    idata.extend(pm.sample_posterior_predictive(idata))"
   ]
  },
  {
   "cell_type": "code",
   "execution_count": null,
   "metadata": {},
   "outputs": [],
   "source": [
    "# Tomamos promedio sobre las cadenas y las muestras\n",
    "y_score = idata.posterior_predictive[\"deposit\"].mean(dim=[\"chain\", \"draw\"])\n",
    "y_score"
   ]
  },
  {
   "cell_type": "code",
   "execution_count": null,
   "metadata": {},
   "outputs": [],
   "source": [
    "# Construimos la curva precision-recall\n",
    "precision, recall, thresholds = precision_recall_curve(y_true=y_test, y_score=y_score)\n",
    "pr_curve = pd.DataFrame({'Precision': precision, 'Recall': recall})"
   ]
  },
  {
   "cell_type": "code",
   "execution_count": null,
   "metadata": {},
   "outputs": [],
   "source": [
    "# Construimos la curva F1 vs. umbrales\n",
    "f1 = pd.Series({t: f1_score(y_true=y_test, y_pred=y_score > t) for t in thresholds})\n",
    "# Encontramos el umbral que maximiza F1\n",
    "best_threshold = f1.idxmax()"
   ]
  },
  {
   "cell_type": "code",
   "execution_count": null,
   "metadata": {},
   "outputs": [],
   "source": [
    "fig, axes = plt.subplots(ncols=2, figsize=(13, 5))\n",
    "\n",
    "# Curva Precision-Recall, con el mejor umbral marcado\n",
    "sns.scatterplot(x='Recall', y='Precision', data=pr_curve, ax=axes[0])\n",
    "axes[0].plot(\n",
    "    pr_curve.loc[np.where(thresholds == best_threshold)[0], 'Recall'],\n",
    "    pr_curve.loc[np.where(thresholds == best_threshold)[0], 'Precision'],\n",
    "    'ro',\n",
    "    ms=10\n",
    ")\n",
    "axes[0].set_ylim(0,1)\n",
    "axes[0].set_title('Precision-Recall Curve')\n",
    "\n",
    "# Curva F1 vs. umbrales, con el mejor umbral marcado\n",
    "f1.plot(ax=axes[1], title='F1 Scores', ylim=(0,1))\n",
    "axes[1].set_xlabel('Threshold')\n",
    "axes[1].axvline(best_threshold, lw=1, ls='--', color='k')\n",
    "axes[1].text(x=.60, y=.95, s=f'Max F1 @ {best_threshold:.2f}')\n",
    "fig.tight_layout()\n",
    "plt.subplots_adjust(top=.8)\n",
    "plt.show();"
   ]
  },
  {
   "cell_type": "code",
   "execution_count": null,
   "metadata": {},
   "outputs": [],
   "source": [
    "# Accuracy\n",
    "accuracy = ((y_score > best_threshold) == y_test).mean()\n",
    "accuracy"
   ]
  },
  {
   "cell_type": "markdown",
   "metadata": {},
   "source": [
    "<script>\n",
    "  $(document).ready(function(){\n",
    "    $('div.prompt').hide();\n",
    "    $('div.back-to-top').hide();\n",
    "    $('nav#menubar').hide();\n",
    "    $('.breadcrumb').hide();\n",
    "    $('.hidden-print').hide();\n",
    "  });\n",
    "</script>\n",
    "\n",
    "<footer id=\"attribution\" style=\"float:right; color:#808080; background:#fff;\">\n",
    "Created with Jupyter by Esteban Jiménez Rodríguez.\n",
    "</footer>"
   ]
  }
 ],
 "metadata": {
  "kernelspec": {
   "display_name": "mebo2024_v4",
   "language": "python",
   "name": "python3"
  },
  "language_info": {
   "codemirror_mode": {
    "name": "ipython",
    "version": 3
   },
   "file_extension": ".py",
   "mimetype": "text/x-python",
   "name": "python",
   "nbconvert_exporter": "python",
   "pygments_lexer": "ipython3",
   "version": "3.9.19"
  }
 },
 "nbformat": 4,
 "nbformat_minor": 2
}
